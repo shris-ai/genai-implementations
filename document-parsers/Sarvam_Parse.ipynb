{
  "nbformat": 4,
  "nbformat_minor": 0,
  "metadata": {
    "colab": {
      "provenance": [],
      "authorship_tag": "ABX9TyOK4AGLQ9brEN6Iyk80T1ZP",
      "include_colab_link": true
    },
    "kernelspec": {
      "name": "python3",
      "display_name": "Python 3"
    },
    "language_info": {
      "name": "python"
    }
  },
  "cells": [
    {
      "cell_type": "markdown",
      "metadata": {
        "id": "view-in-github",
        "colab_type": "text"
      },
      "source": [
        "<a href=\"https://colab.research.google.com/github/shris-ai/genai-implementations/blob/main/Sarvam_Parse.ipynb\" target=\"_parent\"><img src=\"https://colab.research.google.com/assets/colab-badge.svg\" alt=\"Open In Colab\"/></a>"
      ]
    },
    {
      "cell_type": "markdown",
      "source": [
        "# Installation & Setup"
      ],
      "metadata": {
        "id": "ywjGJsD3qROa"
      }
    },
    {
      "cell_type": "markdown",
      "source": [
        "## Install required libraries"
      ],
      "metadata": {
        "id": "KWtTSPaTqj-j"
      }
    },
    {
      "cell_type": "code",
      "source": [
        "!pip install requests\n",
        "!pip install requests-toolbelt"
      ],
      "metadata": {
        "colab": {
          "base_uri": "https://localhost:8080/"
        },
        "id": "KW6zlzkxqnqW",
        "outputId": "2abb8e1b-88e6-4631-a2c5-60fd17bb0e47"
      },
      "execution_count": null,
      "outputs": [
        {
          "output_type": "stream",
          "name": "stdout",
          "text": [
            "Requirement already satisfied: requests in /usr/local/lib/python3.11/dist-packages (2.32.3)\n",
            "Requirement already satisfied: charset-normalizer<4,>=2 in /usr/local/lib/python3.11/dist-packages (from requests) (3.4.1)\n",
            "Requirement already satisfied: idna<4,>=2.5 in /usr/local/lib/python3.11/dist-packages (from requests) (3.10)\n",
            "Requirement already satisfied: urllib3<3,>=1.21.1 in /usr/local/lib/python3.11/dist-packages (from requests) (2.3.0)\n",
            "Requirement already satisfied: certifi>=2017.4.17 in /usr/local/lib/python3.11/dist-packages (from requests) (2025.1.31)\n",
            "Requirement already satisfied: requests-toolbelt in /usr/local/lib/python3.11/dist-packages (1.0.0)\n",
            "Requirement already satisfied: requests<3.0.0,>=2.0.1 in /usr/local/lib/python3.11/dist-packages (from requests-toolbelt) (2.32.3)\n",
            "Requirement already satisfied: charset-normalizer<4,>=2 in /usr/local/lib/python3.11/dist-packages (from requests<3.0.0,>=2.0.1->requests-toolbelt) (3.4.1)\n",
            "Requirement already satisfied: idna<4,>=2.5 in /usr/local/lib/python3.11/dist-packages (from requests<3.0.0,>=2.0.1->requests-toolbelt) (3.10)\n",
            "Requirement already satisfied: urllib3<3,>=1.21.1 in /usr/local/lib/python3.11/dist-packages (from requests<3.0.0,>=2.0.1->requests-toolbelt) (2.3.0)\n",
            "Requirement already satisfied: certifi>=2017.4.17 in /usr/local/lib/python3.11/dist-packages (from requests<3.0.0,>=2.0.1->requests-toolbelt) (2025.1.31)\n"
          ]
        }
      ]
    },
    {
      "cell_type": "markdown",
      "source": [
        "## Download data"
      ],
      "metadata": {
        "id": "mamWV_pgqtGL"
      }
    },
    {
      "cell_type": "code",
      "source": [
        "!gdown https://drive.google.com/uc?id=1bCpso1rDbRY3srTDjfvYhLrq8hQkFAqP"
      ],
      "metadata": {
        "colab": {
          "base_uri": "https://localhost:8080/"
        },
        "id": "E7K0zoElrI2g",
        "outputId": "f8acbea8-f13e-4ed0-e7c4-a46edad73754"
      },
      "execution_count": null,
      "outputs": [
        {
          "output_type": "stream",
          "name": "stdout",
          "text": [
            "Downloading...\n",
            "From: https://drive.google.com/uc?id=1bCpso1rDbRY3srTDjfvYhLrq8hQkFAqP\n",
            "To: /content/Prompt Engineering by Lilian Weng.pdf\n",
            "\r  0% 0.00/4.11M [00:00<?, ?B/s]\r100% 4.11M/4.11M [00:00<00:00, 64.9MB/s]\n"
          ]
        }
      ]
    },
    {
      "cell_type": "markdown",
      "source": [
        "## Get secrets from Colab"
      ],
      "metadata": {
        "id": "hhkGj_qLrw5I"
      }
    },
    {
      "cell_type": "code",
      "source": [
        "from google.colab import userdata\n",
        "api_key = userdata.get('sarvam_api_key')"
      ],
      "metadata": {
        "id": "RY1XcbAzruMh"
      },
      "execution_count": null,
      "outputs": []
    },
    {
      "cell_type": "markdown",
      "source": [
        "# Sarvam Parse"
      ],
      "metadata": {
        "id": "XL1W8kWytuoB"
      }
    },
    {
      "cell_type": "markdown",
      "source": [
        "As Sarvam Parse accepts document data in the form of multipart form data, we will use Multipart Encoder to convert required field into acceptable format."
      ],
      "metadata": {
        "id": "03b6Xtwmt_yF"
      }
    },
    {
      "cell_type": "code",
      "execution_count": null,
      "metadata": {
        "id": "YhwJj41Oj3R4"
      },
      "outputs": [],
      "source": [
        "from requests_toolbelt.multipart.encoder import MultipartEncoder\n",
        "\n",
        "\n",
        "path = r\"/content/Prompt Engineering by Lilian Weng.pdf\"\n",
        "\n",
        "payload = MultipartEncoder(\n",
        "    fields={\n",
        "        \"pdf\": ('Prompt Engineering by Lilian Weng.pdf', open(path, 'rb'),  'application/pdf'),\n",
        "        \"page_number\": \"1\",\n",
        "        \"sarvam_mode\": \"small\",\n",
        "        \"prompt_caching\": \"true\"\n",
        "        }\n",
        "    )\n"
      ]
    },
    {
      "cell_type": "markdown",
      "source": [
        "Our payload is ready. Let's send a POST request to Sarvam's endpoint for Sarvam Parse."
      ],
      "metadata": {
        "id": "6sfdORl6u0mx"
      }
    },
    {
      "cell_type": "code",
      "source": [
        "import requests\n",
        "\n",
        "url = \"https://api.sarvam.ai/parse/parsepdf\"\n",
        "\n",
        "headers = {\n",
        "    \"api-subscription-key\": api_key,\n",
        "    \"Content-Type\": payload.content_type\n",
        "    }\n",
        "\n",
        "response = requests.request('POST', url, data=payload, headers=headers)\n",
        "\n",
        "print(response.status_code)\n",
        "print(response.json())\n"
      ],
      "metadata": {
        "colab": {
          "base_uri": "https://localhost:8080/"
        },
        "id": "CwJp_wlUuzL7",
        "outputId": "4f4fbb04-854a-40c6-802f-81e2f69c2bbb"
      },
      "execution_count": null,
      "outputs": [
        {
          "output_type": "stream",
          "name": "stdout",
          "text": [
            "200\n",
            "{'output': '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'}\n"
          ]
        }
      ]
    },
    {
      "cell_type": "markdown",
      "source": [
        "Since, the API's status code is 200, we'll proceed further.\n"
      ],
      "metadata": {
        "id": "LdnWIaVIvC8x"
      }
    },
    {
      "cell_type": "markdown",
      "source": [
        "The output of the API is a base64 encoded XML string containing the extracted data.\n",
        "\n",
        "The final step here is to decode the XML string."
      ],
      "metadata": {
        "id": "0JQWS9kGwFLw"
      }
    },
    {
      "cell_type": "code",
      "source": [
        "import base64\n",
        "import xml.etree.ElementTree as ET\n",
        "\n",
        "base64_encoded_xml = (response.json())['output']\n",
        "\n",
        "decoded_xml = base64.b64decode(base64_encoded_xml).decode('utf-8')\n",
        "\n",
        "print(decoded_xml)"
      ],
      "metadata": {
        "colab": {
          "base_uri": "https://localhost:8080/"
        },
        "id": "xUpFgGGDvENG",
        "outputId": "01c4d7fa-63f2-4e72-ebe4-382ceeb15c83"
      },
      "execution_count": null,
      "outputs": [
        {
          "output_type": "stream",
          "name": "stdout",
          "text": [
            "<!DOCTYPE html>\n",
            "<html lang=\"en\">\n",
            "  <head>\n",
            "    <meta charset=\"UTF-8\" />\n",
            "    <meta name=\"viewport\" content=\"width=device-width, initial-scale=1.0\" />\n",
            "  </head>\n",
            "  <body>\n",
            "    <page-header bbox=\"[23.0, 14.0, 392.0, 26.0]\">\n",
            "3/8/25, 7:27 AM Prompt Engineering | Lil'Log\n",
            "</page-header>\n",
            "<page-header bbox=\"[227.0, 44.0, 552.0, 60.0]\">\n",
            "Posts Archive Search Tags FAQ emojisearch.app\n",
            "</page-header>\n",
            "<chapter-title>\n",
            "Prompt Engineering\n",
            "</chapter-title>\n",
            "<p bbox=\"[46.0, 145.0, 402.0, 159.0]\">\n",
            "Date: March 15, 2023 | Estimated Reading Time: 21 min | Author: Lilian Weng\n",
            "</p>\n",
            "<toc bbox=\"[68.0, 184.0, 170.0, 196.0]\">\n",
            "Table of Contents\n",
            "</toc>\n",
            "<p bbox=\"[46.0, 238.0, 546.0, 310.0]\">\n",
            "<b>Prompt Engineering</b>, also known as <b>In-Context Prompting</b>, refers to methods for how to communicate with LLM to steer its behavior for desired outcomes <i>without</i> updating the model weights. It is an <i>empirical</i> science and the effect of prompt engineering methods can vary a lot among models, thus requiring heavy experimentation and heuristics.\n",
            "</p>\n",
            "<p bbox=\"[46.0, 329.0, 550.0, 402.0]\">\n",
            "This post <i>only</i> focuses on prompt engineering for autoregressive <i>language</i> models, so nothing with Cloze tests, image generation or multimodality models. At its core, the <i>goal</i> of prompt engineering is about <i>alignment</i> and <i>model steerability</i>. Check my previous post on controllable text generation.\n",
            "</p>\n",
            "<p bbox=\"[46.0, 420.0, 549.0, 514.0]\">\n",
            "[<b>My personal spicy take</b>] In my opinion, some prompt engineering papers are not worthy 8 pages long, since those tricks can be explained in one or a few sentences and the rest is all about benchmarking. An easy-to-use and shared benchmark infrastructure should be more beneficial to the community. <i>Iterative</i> prompting or <i>external</i> tool use would not be trivial to set up. Also non-trivial to align the <i>whole</i> research community to adopt it.\n",
            "</p>\n",
            "<h1 bbox=\"[46.0, 537.0, 209.0, 562.0]\">\n",
            "Basic Prompting\n",
            "</h1>\n",
            "<p bbox=\"[46.0, 578.0, 524.0, 612.0]\">\n",
            "Zero-shot and few-shot learning are two most basic approaches for prompting the model, pioneered by many LLM papers and commonly used for benchmarking LLM performance.\n",
            "</p>\n",
            "<h2 bbox=\"[46.0, 634.0, 132.0, 652.0]\">\n",
            "Zero-Shot\n",
            "</h2>\n",
            "<p bbox=\"[46.0, 668.0, 484.0, 683.0]\">\n",
            "<b>Zero-shot learning</b> is to simply feed the task text to the model and ask for results.\n",
            "</p>\n",
            "<p bbox=\"[46.0, 702.0, 323.0, 717.0]\">\n",
            "(All the sentiment analysis examples are from SST-2)\n",
            "</p>\n",
            "<p bbox=\"[54.0, 742.0, 373.0, 767.0]\">\n",
            "Text: i'll bet the video game is a lot more fun than the film.\n",
            "Sentiment:\n",
            "</p>\n",
            "<page-footer bbox=\"[23.0, 819.0, 573.0, 830.0]\">\n",
            "https://lilianweng.github.io/posts/2023-03-15-prompt-engineering/ 1/16\n",
            "</page-footer>\n",
            "  </body>\n",
            "  <style>\n",
            "    body {\n",
            "      font-family: Arial, sans-serif;\n",
            "      line-height: 1.6;\n",
            "      max-width: 800px;\n",
            "      margin: 20px auto;\n",
            "      padding: 20px;\n",
            "      background-color: #fff;\n",
            "      color: #333;\n",
            "      border: 1px solid #ddd;\n",
            "    }\n",
            "\n",
            "    page {\n",
            "      display: block;\n",
            "      max-width: 100%; /* Ensure the page does not exceed the viewport width */\n",
            "      overflow-x: auto; /* Add horizontal scrollbar if content overflows */\n",
            "    }\n",
            "\n",
            "    h1,\n",
            "    h2,\n",
            "    h3,\n",
            "    h4,\n",
            "    h5,\n",
            "    h6 {\n",
            "      border-bottom: 1px solid #ddd;\n",
            "      padding-bottom: 0.3em;\n",
            "    }\n",
            "\n",
            "    h1 {\n",
            "      font-size: 2em;\n",
            "    }\n",
            "\n",
            "    h2 {\n",
            "      font-size: 1.5em;\n",
            "    }\n",
            "\n",
            "    h3 {\n",
            "      font-size: 1.17em;\n",
            "    }\n",
            "\n",
            "    h4 {\n",
            "      font-size: 1em;\n",
            "    }\n",
            "\n",
            "    h5 {\n",
            "      font-size: 0.83em;\n",
            "    }\n",
            "\n",
            "    h6 {\n",
            "      font-size: 0.67em;\n",
            "    }\n",
            "\n",
            "    p {\n",
            "      margin: 0.75em 0;\n",
            "    }\n",
            "\n",
            "    body {\n",
            "      font-family: Arial, sans-serif;\n",
            "      line-height: 1.6;\n",
            "      max-width: 800px;\n",
            "      margin: 20px auto;\n",
            "      padding: 20px;\n",
            "      background-color: #fff;\n",
            "      color: #333;\n",
            "      border: 1px solid #ddd;\n",
            "    }\n",
            "\n",
            "    ul,\n",
            "    ol {\n",
            "      padding-left: 20px;\n",
            "    }\n",
            "\n",
            "    table {\n",
            "      border-collapse: collapse;\n",
            "      width: 100%;\n",
            "    }\n",
            "\n",
            "    th,\n",
            "    td {\n",
            "      border: 1px solid #ddd;\n",
            "      padding: 8px;\n",
            "      text-align: left;\n",
            "    }\n",
            "\n",
            "    th {\n",
            "      background-color: #f2f2f2;\n",
            "    }\n",
            "\n",
            "    img {\n",
            "      max-width: 100%;\n",
            "      height: auto;\n",
            "    }\n",
            "\n",
            "    chapter-title {\n",
            "      display: block;\n",
            "      font-size: 3em;\n",
            "      font-weight: bold;\n",
            "      color: black;\n",
            "      border-bottom: 1px solid #ddd;\n",
            "      padding-bottom: 0.3em;\n",
            "    }\n",
            "\n",
            "    page-module {\n",
            "      display: block;\n",
            "      background-color: #d3d3d3;\n",
            "    }\n",
            "\n",
            "    list-item {\n",
            "      display: block;\n",
            "    }\n",
            "\n",
            "    page-header {\n",
            "      border-bottom: 1px solid #ddd;\n",
            "      display: block;\n",
            "      margin-bottom: 16px;\n",
            "      text-align: center;\n",
            "    }\n",
            "\n",
            "    page-footer {\n",
            "      border-top: 1px solid #ddd;\n",
            "      display: block;\n",
            "      margin-top: 16px;\n",
            "      text-align: center;\n",
            "    }\n",
            "\n",
            "    toc {\n",
            "      padding: 10px;\n",
            "    }\n",
            "\n",
            "    toc-item {\n",
            "      margin: 5px 0;\n",
            "      padding: 2px 5px;\n",
            "      display: block;\n",
            "    }\n",
            "  </style>\n",
            "</html>\n",
            "\n"
          ]
        }
      ]
    },
    {
      "cell_type": "markdown",
      "source": [
        "If we want to extract all the paragraphs..."
      ],
      "metadata": {
        "id": "GPWptQAlwKld"
      }
    },
    {
      "cell_type": "code",
      "source": [
        "# Example: Extracting all paragraphs\n",
        "root = ET.fromstring(decoded_xml)\n",
        "\n",
        "for paragraph in root.iter('p'):\n",
        "  print(paragraph.text)"
      ],
      "metadata": {
        "colab": {
          "base_uri": "https://localhost:8080/"
        },
        "id": "4fxnXdqHwWEd",
        "outputId": "e31cd2ff-da0e-4c27-ec96-ffe71433e72b"
      },
      "execution_count": null,
      "outputs": [
        {
          "output_type": "stream",
          "name": "stdout",
          "text": [
            "\n",
            "Date: March 15, 2023 | Estimated Reading Time: 21 min | Author: Lilian Weng\n",
            "\n",
            "\n",
            "\n",
            "\n",
            "This post \n",
            "\n",
            "[\n",
            "\n",
            "Zero-shot and few-shot learning are two most basic approaches for prompting the model, pioneered by many LLM papers and commonly used for benchmarking LLM performance.\n",
            "\n",
            "\n",
            "\n",
            "\n",
            "(All the sentiment analysis examples are from SST-2)\n",
            "\n",
            "\n",
            "Text: i'll bet the video game is a lot more fun than the film.\n",
            "Sentiment:\n",
            "\n"
          ]
        }
      ]
    },
    {
      "cell_type": "markdown",
      "source": [
        "That's all folks! 😼"
      ],
      "metadata": {
        "id": "m9n0L_uSwjAR"
      }
    }
  ]
}